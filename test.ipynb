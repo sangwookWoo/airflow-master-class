{
 "cells": [
  {
   "cell_type": "code",
   "execution_count": 6,
   "metadata": {},
   "outputs": [
    {
     "name": "stdout",
     "output_type": "stream",
     "text": [
      "현재시간 2023-03-30 00:00:00\n",
      "2023-01-30 00:00:00\n",
      "2023-01-30 00:00:00\n",
      "2023-02-28 00:00:00\n",
      "2023-03-01 00:00:00\n",
      "2023-03-01 00:00:00\n",
      "2023-03-29 00:00:00\n",
      "2023-02-27 00:00:00\n"
     ]
    }
   ],
   "source": [
    "from datetime import datetime\n",
    "from dateutil import relativedelta\n",
    "\n",
    "now = datetime(year=2023, month=3, day=30)\n",
    "print('현재시간 ' + str(now))\n",
    "\n",
    "# 월 연산\n",
    "print(now + relativedelta.relativedelta(month=1)) # 1월로 변경\n",
    "print(now.replace(month=1)) # 1월로 변경\n",
    "print(now + relativedelta.relativedelta(months=-1)) # 1개월 빼기\n",
    "\n",
    "# 일 연산\n",
    "print(now + relativedelta.relativedelta(day=1)) # 1일로 변경\n",
    "print(now.replace(day=1)) # 1일로 변경\n",
    "print(now + relativedelta.relativedelta(days=-1)) # 1일 빼기\n",
    "\n",
    "# 연산 여러개\n",
    "print(now + relativedelta.relativedelta(months=-1) + relativedelta.relativedelta(days=-1)) # 1개월, 1일 빼기"
   ]
  },
  {
   "cell_type": "code",
   "execution_count": null,
   "metadata": {},
   "outputs": [],
   "source": []
  }
 ],
 "metadata": {
  "kernelspec": {
   "display_name": "woody",
   "language": "python",
   "name": "python3"
  },
  "language_info": {
   "codemirror_mode": {
    "name": "ipython",
    "version": 3
   },
   "file_extension": ".py",
   "mimetype": "text/x-python",
   "name": "python",
   "nbconvert_exporter": "python",
   "pygments_lexer": "ipython3",
   "version": "3.9.18"
  }
 },
 "nbformat": 4,
 "nbformat_minor": 2
}
